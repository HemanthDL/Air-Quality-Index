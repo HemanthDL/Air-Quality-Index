{
 "cells": [
  {
   "cell_type": "code",
   "execution_count": 4,
   "metadata": {},
   "outputs": [
    {
     "name": "stdout",
     "output_type": "stream",
     "text": [
      "       co    no   no2     o3   so2  pm2_5   pm10   nh3\n",
      "0  480.65  0.89  5.66  117.3  2.33  26.93  34.61  5.13\n",
      "\n",
      "\n",
      "Random Forest Classifier : \n",
      "\n",
      "\n",
      "\n",
      "\tPredicted AQI Class Using Random Forest Classifier: [4]\n"
     ]
    }
   ],
   "source": [
    "import pandas as pd\n",
    "import requests\n",
    "from sklearn.ensemble import RandomForestClassifier\n",
    "import joblib\n",
    "\n",
    "rf_model = joblib.load('random_forest_model.pkl')\n",
    "\n",
    "def fetch_real_time_data(api_key, lat, lon):\n",
    "    url = \"http://api.openweathermap.org/data/2.5/air_pollution\"\n",
    "    params = {\n",
    "        \"lat\": lat,\n",
    "        \"lon\": lon,\n",
    "        \"appid\": api_key\n",
    "    }\n",
    "    response = requests.get(url, params=params)\n",
    "    data = response.json()\n",
    "    \n",
    "    if 'list' in data and len(data['list']) > 0:\n",
    "        air_quality_data = data['list'][0]['components']\n",
    "        return air_quality_data\n",
    "    else:\n",
    "        raise ValueError(\"No data available for the specified location\")\n",
    "\n",
    "def fetch_real_time():\n",
    "    api_key = '770f56fec010799b22416015a76a31c5'\n",
    "    lat = 12.9716\n",
    "    lon =  77.5946\n",
    "    real_time_data = fetch_real_time_data(api_key, lat, lon)\n",
    "    return real_time_data\n",
    "\n",
    "real_time_data = fetch_real_time()\n",
    "\n",
    "real_time_df = pd.DataFrame([real_time_data])\n",
    "print(real_time_df)\n",
    "\n",
    "# Remove 'city_encoded' if it was not part of the training data\n",
    "# Ensure the columns here match exactly what the model expects\n",
    "real_time_df = real_time_df[['co', 'no', 'no2', 'o3', 'so2', 'pm2_5', 'pm10', 'nh3']]\n",
    "\n",
    "print(\"\\n\\nRandom Forest Classifier : \\n\\n\")\n",
    "\n",
    "joblib.dump(rf_model, 'random_forest_model.pkl')\n",
    "\n",
    "rf_model_loaded = joblib.load('random_forest_model.pkl')\n",
    "\n",
    "# Make prediction\n",
    "prediction_rf = rf_model_loaded.predict(real_time_df)\n",
    "print(\"\\n\\tPredicted AQI Class Using Random Forest Classifier:\", prediction_rf)"
   ]
  }
 ],
 "metadata": {
  "kernelspec": {
   "display_name": "Python 3",
   "language": "python",
   "name": "python3"
  },
  "language_info": {
   "codemirror_mode": {
    "name": "ipython",
    "version": 3
   },
   "file_extension": ".py",
   "mimetype": "text/x-python",
   "name": "python",
   "nbconvert_exporter": "python",
   "pygments_lexer": "ipython3",
   "version": "3.12.3"
  }
 },
 "nbformat": 4,
 "nbformat_minor": 2
}
